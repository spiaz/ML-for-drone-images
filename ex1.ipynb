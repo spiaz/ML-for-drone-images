{
 "cells": [
  {
   "cell_type": "markdown",
   "metadata": {},
   "source": [
    "# Assignment\n",
    "The data provided in Y.csv has been generated from the data in X.csv (samples are in rows and have 1000 features) by the model y = f(x) + η, where η is some Gaussian noise with small variance.\n",
    "\n",
    "Can you find the regression function f? \n",
    "\n",
    "Please provide your code and final model.\n",
    "\n",
    "## Execution"
   ]
  },
  {
   "cell_type": "code",
   "execution_count": 1,
   "metadata": {},
   "outputs": [
    {
     "data": {
      "text/plain": [
       "45"
      ]
     },
     "execution_count": 1,
     "metadata": {},
     "output_type": "execute_result"
    }
   ],
   "source": [
    "import numpy as np\n",
    "import pandas as pd\n",
    "from matplotlib import pyplot as plt\n",
    "import seaborn as sns\n",
    "from sklearn import preprocessing\n",
    "from sklearn.preprocessing import StandardScaler\n",
    "from sklearn.model_selection import train_test_split\n",
    "import pickle\n",
    "\n",
    "\n",
    "# Set the seed to make the results reproductible\n",
    "np.random.seed(42)\n",
    "\n",
    "# Reading input data\n",
    "x, y = [pd.read_csv(x, header=None) for x in [\"data/X.csv\", \"data/Y.csv\"]]\n",
    "\n",
    "# Splitting train and test set\n",
    "x, x_test, y, y_test = train_test_split(x, y, test_size=0.10, random_state=42)\n",
    "\n",
    "# Verify number of examples\n",
    "assert len(x) == len(y)\n",
    "len(y)"
   ]
  },
  {
   "cell_type": "code",
   "execution_count": 2,
   "metadata": {},
   "outputs": [
    {
     "data": {
      "text/html": [
       "<div>\n",
       "<style scoped>\n",
       "    .dataframe tbody tr th:only-of-type {\n",
       "        vertical-align: middle;\n",
       "    }\n",
       "\n",
       "    .dataframe tbody tr th {\n",
       "        vertical-align: top;\n",
       "    }\n",
       "\n",
       "    .dataframe thead th {\n",
       "        text-align: right;\n",
       "    }\n",
       "</style>\n",
       "<table border=\"1\" class=\"dataframe\">\n",
       "  <thead>\n",
       "    <tr style=\"text-align: right;\">\n",
       "      <th></th>\n",
       "      <th>0</th>\n",
       "      <th>1</th>\n",
       "      <th>2</th>\n",
       "      <th>3</th>\n",
       "      <th>4</th>\n",
       "      <th>5</th>\n",
       "      <th>6</th>\n",
       "      <th>7</th>\n",
       "      <th>8</th>\n",
       "      <th>9</th>\n",
       "      <th>...</th>\n",
       "      <th>990</th>\n",
       "      <th>991</th>\n",
       "      <th>992</th>\n",
       "      <th>993</th>\n",
       "      <th>994</th>\n",
       "      <th>995</th>\n",
       "      <th>996</th>\n",
       "      <th>997</th>\n",
       "      <th>998</th>\n",
       "      <th>999</th>\n",
       "    </tr>\n",
       "  </thead>\n",
       "  <tbody>\n",
       "    <tr>\n",
       "      <th>count</th>\n",
       "      <td>45.000000</td>\n",
       "      <td>45.000000</td>\n",
       "      <td>45.000000</td>\n",
       "      <td>45.000000</td>\n",
       "      <td>45.000000</td>\n",
       "      <td>45.000000</td>\n",
       "      <td>45.000000</td>\n",
       "      <td>45.000000</td>\n",
       "      <td>45.000000</td>\n",
       "      <td>45.000000</td>\n",
       "      <td>...</td>\n",
       "      <td>45.000000</td>\n",
       "      <td>45.000000</td>\n",
       "      <td>45.000000</td>\n",
       "      <td>45.000000</td>\n",
       "      <td>45.000000</td>\n",
       "      <td>45.000000</td>\n",
       "      <td>45.000000</td>\n",
       "      <td>45.000000</td>\n",
       "      <td>45.000000</td>\n",
       "      <td>45.000000</td>\n",
       "    </tr>\n",
       "    <tr>\n",
       "      <th>mean</th>\n",
       "      <td>-0.125314</td>\n",
       "      <td>0.064512</td>\n",
       "      <td>-0.225282</td>\n",
       "      <td>-0.086162</td>\n",
       "      <td>-0.174480</td>\n",
       "      <td>0.066388</td>\n",
       "      <td>0.036436</td>\n",
       "      <td>0.115253</td>\n",
       "      <td>0.158405</td>\n",
       "      <td>-0.023163</td>\n",
       "      <td>...</td>\n",
       "      <td>-0.002307</td>\n",
       "      <td>0.243625</td>\n",
       "      <td>0.116330</td>\n",
       "      <td>0.112652</td>\n",
       "      <td>-0.272270</td>\n",
       "      <td>-0.101007</td>\n",
       "      <td>0.091006</td>\n",
       "      <td>-0.083522</td>\n",
       "      <td>-0.088042</td>\n",
       "      <td>-0.092557</td>\n",
       "    </tr>\n",
       "    <tr>\n",
       "      <th>std</th>\n",
       "      <td>0.887483</td>\n",
       "      <td>1.050002</td>\n",
       "      <td>1.049163</td>\n",
       "      <td>1.110073</td>\n",
       "      <td>1.095825</td>\n",
       "      <td>0.899321</td>\n",
       "      <td>1.083028</td>\n",
       "      <td>1.334967</td>\n",
       "      <td>1.158494</td>\n",
       "      <td>0.995597</td>\n",
       "      <td>...</td>\n",
       "      <td>0.957377</td>\n",
       "      <td>0.898561</td>\n",
       "      <td>1.065672</td>\n",
       "      <td>0.889040</td>\n",
       "      <td>0.904575</td>\n",
       "      <td>0.920960</td>\n",
       "      <td>1.290935</td>\n",
       "      <td>1.043948</td>\n",
       "      <td>1.108493</td>\n",
       "      <td>1.094964</td>\n",
       "    </tr>\n",
       "    <tr>\n",
       "      <th>min</th>\n",
       "      <td>-1.859400</td>\n",
       "      <td>-1.558600</td>\n",
       "      <td>-2.852500</td>\n",
       "      <td>-2.787600</td>\n",
       "      <td>-3.097300</td>\n",
       "      <td>-2.084700</td>\n",
       "      <td>-2.485900</td>\n",
       "      <td>-2.054200</td>\n",
       "      <td>-2.931100</td>\n",
       "      <td>-1.724700</td>\n",
       "      <td>...</td>\n",
       "      <td>-2.089100</td>\n",
       "      <td>-2.137000</td>\n",
       "      <td>-1.917900</td>\n",
       "      <td>-1.730000</td>\n",
       "      <td>-2.492900</td>\n",
       "      <td>-2.296800</td>\n",
       "      <td>-3.084300</td>\n",
       "      <td>-2.017100</td>\n",
       "      <td>-2.463300</td>\n",
       "      <td>-2.319600</td>\n",
       "    </tr>\n",
       "    <tr>\n",
       "      <th>25%</th>\n",
       "      <td>-0.750960</td>\n",
       "      <td>-0.851710</td>\n",
       "      <td>-0.655640</td>\n",
       "      <td>-0.886240</td>\n",
       "      <td>-0.791130</td>\n",
       "      <td>-0.414880</td>\n",
       "      <td>-0.709820</td>\n",
       "      <td>-0.950890</td>\n",
       "      <td>-0.553100</td>\n",
       "      <td>-0.964920</td>\n",
       "      <td>...</td>\n",
       "      <td>-0.548070</td>\n",
       "      <td>-0.200160</td>\n",
       "      <td>-0.714570</td>\n",
       "      <td>-0.502250</td>\n",
       "      <td>-0.818920</td>\n",
       "      <td>-0.615330</td>\n",
       "      <td>-0.813620</td>\n",
       "      <td>-0.811960</td>\n",
       "      <td>-1.012700</td>\n",
       "      <td>-0.862640</td>\n",
       "    </tr>\n",
       "    <tr>\n",
       "      <th>50%</th>\n",
       "      <td>-0.247940</td>\n",
       "      <td>-0.084135</td>\n",
       "      <td>-0.086811</td>\n",
       "      <td>0.052495</td>\n",
       "      <td>0.025470</td>\n",
       "      <td>0.234600</td>\n",
       "      <td>-0.042194</td>\n",
       "      <td>0.190320</td>\n",
       "      <td>0.027547</td>\n",
       "      <td>-0.030326</td>\n",
       "      <td>...</td>\n",
       "      <td>0.055873</td>\n",
       "      <td>0.153390</td>\n",
       "      <td>0.161790</td>\n",
       "      <td>0.224610</td>\n",
       "      <td>-0.217440</td>\n",
       "      <td>-0.080433</td>\n",
       "      <td>0.214650</td>\n",
       "      <td>-0.200070</td>\n",
       "      <td>-0.032757</td>\n",
       "      <td>-0.042765</td>\n",
       "    </tr>\n",
       "    <tr>\n",
       "      <th>75%</th>\n",
       "      <td>0.443230</td>\n",
       "      <td>0.754490</td>\n",
       "      <td>0.353230</td>\n",
       "      <td>0.512530</td>\n",
       "      <td>0.560970</td>\n",
       "      <td>0.507890</td>\n",
       "      <td>0.817310</td>\n",
       "      <td>0.987470</td>\n",
       "      <td>0.805590</td>\n",
       "      <td>0.716230</td>\n",
       "      <td>...</td>\n",
       "      <td>0.737190</td>\n",
       "      <td>0.837640</td>\n",
       "      <td>1.014600</td>\n",
       "      <td>0.536810</td>\n",
       "      <td>0.256830</td>\n",
       "      <td>0.549690</td>\n",
       "      <td>0.843770</td>\n",
       "      <td>0.410650</td>\n",
       "      <td>0.749470</td>\n",
       "      <td>0.826040</td>\n",
       "    </tr>\n",
       "    <tr>\n",
       "      <th>max</th>\n",
       "      <td>2.129800</td>\n",
       "      <td>3.160200</td>\n",
       "      <td>2.213200</td>\n",
       "      <td>2.176300</td>\n",
       "      <td>2.349200</td>\n",
       "      <td>2.139900</td>\n",
       "      <td>2.056900</td>\n",
       "      <td>2.884300</td>\n",
       "      <td>2.402800</td>\n",
       "      <td>2.474000</td>\n",
       "      <td>...</td>\n",
       "      <td>1.495500</td>\n",
       "      <td>2.099300</td>\n",
       "      <td>2.109400</td>\n",
       "      <td>2.560600</td>\n",
       "      <td>1.792500</td>\n",
       "      <td>1.460600</td>\n",
       "      <td>3.179900</td>\n",
       "      <td>2.851100</td>\n",
       "      <td>2.026400</td>\n",
       "      <td>1.774200</td>\n",
       "    </tr>\n",
       "  </tbody>\n",
       "</table>\n",
       "<p>8 rows × 1000 columns</p>\n",
       "</div>"
      ],
      "text/plain": [
       "             0          1          2          3          4          5    \\\n",
       "count  45.000000  45.000000  45.000000  45.000000  45.000000  45.000000   \n",
       "mean   -0.125314   0.064512  -0.225282  -0.086162  -0.174480   0.066388   \n",
       "std     0.887483   1.050002   1.049163   1.110073   1.095825   0.899321   \n",
       "min    -1.859400  -1.558600  -2.852500  -2.787600  -3.097300  -2.084700   \n",
       "25%    -0.750960  -0.851710  -0.655640  -0.886240  -0.791130  -0.414880   \n",
       "50%    -0.247940  -0.084135  -0.086811   0.052495   0.025470   0.234600   \n",
       "75%     0.443230   0.754490   0.353230   0.512530   0.560970   0.507890   \n",
       "max     2.129800   3.160200   2.213200   2.176300   2.349200   2.139900   \n",
       "\n",
       "             6          7          8          9      ...            990  \\\n",
       "count  45.000000  45.000000  45.000000  45.000000    ...      45.000000   \n",
       "mean    0.036436   0.115253   0.158405  -0.023163    ...      -0.002307   \n",
       "std     1.083028   1.334967   1.158494   0.995597    ...       0.957377   \n",
       "min    -2.485900  -2.054200  -2.931100  -1.724700    ...      -2.089100   \n",
       "25%    -0.709820  -0.950890  -0.553100  -0.964920    ...      -0.548070   \n",
       "50%    -0.042194   0.190320   0.027547  -0.030326    ...       0.055873   \n",
       "75%     0.817310   0.987470   0.805590   0.716230    ...       0.737190   \n",
       "max     2.056900   2.884300   2.402800   2.474000    ...       1.495500   \n",
       "\n",
       "             991        992        993        994        995        996  \\\n",
       "count  45.000000  45.000000  45.000000  45.000000  45.000000  45.000000   \n",
       "mean    0.243625   0.116330   0.112652  -0.272270  -0.101007   0.091006   \n",
       "std     0.898561   1.065672   0.889040   0.904575   0.920960   1.290935   \n",
       "min    -2.137000  -1.917900  -1.730000  -2.492900  -2.296800  -3.084300   \n",
       "25%    -0.200160  -0.714570  -0.502250  -0.818920  -0.615330  -0.813620   \n",
       "50%     0.153390   0.161790   0.224610  -0.217440  -0.080433   0.214650   \n",
       "75%     0.837640   1.014600   0.536810   0.256830   0.549690   0.843770   \n",
       "max     2.099300   2.109400   2.560600   1.792500   1.460600   3.179900   \n",
       "\n",
       "             997        998        999  \n",
       "count  45.000000  45.000000  45.000000  \n",
       "mean   -0.083522  -0.088042  -0.092557  \n",
       "std     1.043948   1.108493   1.094964  \n",
       "min    -2.017100  -2.463300  -2.319600  \n",
       "25%    -0.811960  -1.012700  -0.862640  \n",
       "50%    -0.200070  -0.032757  -0.042765  \n",
       "75%     0.410650   0.749470   0.826040  \n",
       "max     2.851100   2.026400   1.774200  \n",
       "\n",
       "[8 rows x 1000 columns]"
      ]
     },
     "execution_count": 2,
     "metadata": {},
     "output_type": "execute_result"
    }
   ],
   "source": [
    "x.describe()"
   ]
  },
  {
   "cell_type": "code",
   "execution_count": 3,
   "metadata": {},
   "outputs": [
    {
     "name": "stdout",
     "output_type": "stream",
     "text": [
      "Factors mean values are between -0.06793054402 and 0.07385082746 \\pm 1.0422297566502672 \n"
     ]
    }
   ],
   "source": [
    "def range_describe(x):\n",
    "    mean = list(map(np.mean, x.values))\n",
    "    std = max(map(np.std, x.values))\n",
    "    print(\n",
    "        f\"Factors mean values are between {min(mean)} and {max(mean)} \\pm {std} \"\n",
    "    )\n",
    "\n",
    "\n",
    "range_describe(x)"
   ]
  },
  {
   "cell_type": "code",
   "execution_count": 4,
   "metadata": {},
   "outputs": [
    {
     "data": {
      "text/plain": [
       "Text(0.5,1,'Factors vs target')"
      ]
     },
     "execution_count": 4,
     "metadata": {},
     "output_type": "execute_result"
    },
    {
     "data": {
      "image/png": "[encoded data removed]",
      "text/plain": [
       "<Figure size 432x288 with 1 Axes>"
      ]
     },
     "metadata": {
      "needs_background": "light"
     },
     "output_type": "display_data"
    }
   ],
   "source": [
    "# Plot all the factors together vs the target value\n",
    "allx = [el for col in x for el in x[col]]\n",
    "ally = list(y[0]) * len(x.columns)\n",
    "\n",
    "_, ax = plt.subplots()\n",
    "ax.scatter(allx, ally)\n",
    "ax.set_title(\"Factors vs target\")"
   ]
  },
  {
   "cell_type": "markdown",
   "metadata": {},
   "source": [
    "The quick analysis shows that the factors are already scaled"
   ]
  },
  {
   "cell_type": "markdown",
   "metadata": {},
   "source": [
    "Since we have few data samples, we can use crossvalidation to test the data on different linear models and choose for the final regression the one that best fits our data."
   ]
  },
  {
   "cell_type": "code",
   "execution_count": 5,
   "metadata": {},
   "outputs": [
    {
     "name": "stderr",
     "output_type": "stream",
     "text": [
      "/Users/irisuky/anaconda3/envs/logmind/lib/python3.6/site-packages/sklearn/linear_model/base.py:509: RuntimeWarning: internal gelsd driver lwork query error, required iwork dimension not returned. This is likely the result of LAPACK bug 0038, fixed in LAPACK 3.2.2 (released July 21, 2010). Falling back to 'gelss' driver.\n",
      "  linalg.lstsq(X, y)\n",
      "/Users/irisuky/anaconda3/envs/logmind/lib/python3.6/site-packages/sklearn/linear_model/base.py:509: RuntimeWarning: internal gelsd driver lwork query error, required iwork dimension not returned. This is likely the result of LAPACK bug 0038, fixed in LAPACK 3.2.2 (released July 21, 2010). Falling back to 'gelss' driver.\n",
      "  linalg.lstsq(X, y)\n",
      "/Users/irisuky/anaconda3/envs/logmind/lib/python3.6/site-packages/sklearn/linear_model/base.py:509: RuntimeWarning: internal gelsd driver lwork query error, required iwork dimension not returned. This is likely the result of LAPACK bug 0038, fixed in LAPACK 3.2.2 (released July 21, 2010). Falling back to 'gelss' driver.\n",
      "  linalg.lstsq(X, y)\n",
      "/Users/irisuky/anaconda3/envs/logmind/lib/python3.6/site-packages/sklearn/linear_model/base.py:509: RuntimeWarning: internal gelsd driver lwork query error, required iwork dimension not returned. This is likely the result of LAPACK bug 0038, fixed in LAPACK 3.2.2 (released July 21, 2010). Falling back to 'gelss' driver.\n",
      "  linalg.lstsq(X, y)\n"
     ]
    },
    {
     "name": "stdout",
     "output_type": "stream",
     "text": [
      "Linear regression R2 score: 0.0411 (+/-0.16)\n",
      "SVM regressor R2 score: 0.0691 (+/-0.156)\n",
      "Lasso R2 score: 0.925 (+/-0.0234)\n",
      "ElasticNet R2 score: 0.759 (+/-0.0476)\n",
      "Ridge R2 score: 0.0491 (+/-0.158)\n"
     ]
    }
   ],
   "source": [
    "from sklearn.model_selection import cross_val_score, LeaveOneOut, KFold\n",
    "from sklearn import metrics\n",
    "\n",
    "# using linear models beacause we already know that the function that we want to predict is linear\n",
    "from sklearn.linear_model import (\n",
    "    LinearRegression,\n",
    "    Lasso,\n",
    "    ElasticNet,\n",
    "    Ridge,\n",
    "    LassoCV,\n",
    ")\n",
    "from sklearn import svm\n",
    "\n",
    "models = {\n",
    "    \"Linear regression\": LinearRegression(fit_intercept=True, copy_X=True),\n",
    "    \"SVM regressor\": svm.LinearSVR(fit_intercept=True),\n",
    "    \"Lasso\": Lasso(fit_intercept=True),\n",
    "    \"ElasticNet\": ElasticNet(fit_intercept=True),\n",
    "    \"Ridge\": Ridge(fit_intercept=True),\n",
    "}\n",
    "\n",
    "k_fold = KFold(n_splits=5)\n",
    "for name in models:\n",
    "    scores = cross_val_score(\n",
    "        models[name], x.values, y.values.ravel(), cv=k_fold, n_jobs=-1, scoring=metrics.make_scorer(metrics.r2_score)\n",
    "    )\n",
    "    print(f\"{name} R2 score: {np.mean(scores):.3} (+/-{np.std(scores):.3})\")"
   ]
  },
  {
   "cell_type": "markdown",
   "metadata": {},
   "source": [
    "Lasso shows better results on this dataset - and the result is consistent with different metrics. It's worth noting that we used the algorithms with their default values. Proper parameter tuning, for example with random search, can drastically improve the results.\n",
    "\n",
    "However, we already have a nice regression with Lasso, so in this case, we will apply parameter tuning only on the selected algorithm."
   ]
  },
  {
   "cell_type": "code",
   "execution_count": 6,
   "metadata": {},
   "outputs": [
    {
     "data": {
      "text/plain": [
       "0.9999723122473902"
      ]
     },
     "execution_count": 6,
     "metadata": {},
     "output_type": "execute_result"
    }
   ],
   "source": [
    "# Optimize alpha parameter for Lasso (using cv)\n",
    "model = LassoCV(fit_intercept=True, cv=5).fit(x.values, y.values.ravel())\n",
    "alpha = model.alpha_\n",
    "model.score(x, y)"
   ]
  },
  {
   "cell_type": "markdown",
   "metadata": {},
   "source": [
    "Perform final regression on the test set"
   ]
  },
  {
   "cell_type": "code",
   "execution_count": 7,
   "metadata": {},
   "outputs": [],
   "source": [
    "# Fitting the formula y = ax + b on all the training set\n",
    "final_regression_model = Lasso(alpha=alpha, fit_intercept=True).fit(\n",
    "    x.values, y.values.ravel()\n",
    ")\n",
    "a = final_regression_model.coef_\n",
    "b = final_regression_model.intercept_"
   ]
  },
  {
   "cell_type": "code",
   "execution_count": 8,
   "metadata": {},
   "outputs": [
    {
     "name": "stdout",
     "output_type": "stream",
     "text": [
      "R2 score for the final model: 0.9952\n"
     ]
    }
   ],
   "source": [
    "from sklearn.metrics import r2_score, explained_variance_score\n",
    "y_pred = final_regression_model.predict(x_test)\n",
    "\n",
    "print(f\"R2 score for the final model: {r2_score(y_test.values, y_pred):.4}\")"
   ]
  },
  {
   "cell_type": "code",
   "execution_count": 9,
   "metadata": {},
   "outputs": [],
   "source": [
    "# Save the model\n",
    "pickle.dump(\n",
    "    final_regression_model, open(\"ex2.1.4 - final_regression_model.pkl\", \"wb\")\n",
    ")"
   ]
  },
  {
   "cell_type": "code",
   "execution_count": null,
   "metadata": {},
   "outputs": [],
   "source": []
  }
 ],
 "metadata": {
  "kernelspec": {
   "display_name": "Python 3",
   "language": "python",
   "name": "python3"
  },
  "language_info": {
   "codemirror_mode": {
    "name": "ipython",
    "version": 3
   },
   "file_extension": ".py",
   "mimetype": "text/x-python",
   "name": "python",
   "nbconvert_exporter": "python",
   "pygments_lexer": "ipython3",
   "version": "3.7.0"
  }
 },
 "nbformat": 4,
 "nbformat_minor": 2
}
